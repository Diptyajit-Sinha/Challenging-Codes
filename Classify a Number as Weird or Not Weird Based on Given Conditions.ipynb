{
 "cells": [
  {
   "cell_type": "code",
   "execution_count": null,
   "id": "7dcd88ff-a7ec-42f9-adbe-94cc36febdb5",
   "metadata": {},
   "outputs": [],
   "source": [
    "# Question:\n",
    "# You are given a positive integer n. Your task is to classify the number according to the following rules:\n",
    "# If n is odd, print \"Weird\".\n",
    "# If n is even and in the inclusive range [2, 5], print \"Not Weird\".\n",
    "# If n is even and in the inclusive range [6, 20], print \"Weird\".\n",
    "# If n is even and greater than 20, print \"Not Weird\".\n",
    "# Input Format:\n",
    "# A single integer n.\n",
    "# Constraints:\n",
    "# 1≤𝑛≤100\n",
    "# 1≤n≤100\n",
    "# Output Format:\n",
    "# Print \"Weird\" or \"Not Weird\" according to the rules above."
   ]
  },
  {
   "cell_type": "code",
   "execution_count": 1,
   "id": "8f48c520-04ed-40ee-a319-445a12fd0729",
   "metadata": {},
   "outputs": [
    {
     "name": "stdin",
     "output_type": "stream",
     "text": [
      " 23\n"
     ]
    },
    {
     "name": "stdout",
     "output_type": "stream",
     "text": [
      "Weird\n"
     ]
    }
   ],
   "source": [
    "import math\n",
    "import os\n",
    "import random\n",
    "import re\n",
    "import sys\n",
    "\n",
    "if __name__ == '__main__':\n",
    "    n = int(input().strip())\n",
    "if n % 2 != 0:\n",
    "    print(\"Weird\")\n",
    "elif n % 2 == 0:\n",
    "    if n >= 2 and n <= 5:\n",
    "        print(\"Not Weird\")\n",
    "    elif n >=6 and n<=20:\n",
    "        print(\"Weird\")\n",
    "    elif n % 2 == 0 and n >= 20:\n",
    "        print(\"Not Weird\")\n"
   ]
  },
  {
   "cell_type": "code",
   "execution_count": null,
   "id": "643e5589-79a6-4e9a-a531-fc95161569f0",
   "metadata": {},
   "outputs": [],
   "source": []
  }
 ],
 "metadata": {
  "kernelspec": {
   "display_name": "Python 3 (ipykernel)",
   "language": "python",
   "name": "python3"
  },
  "language_info": {
   "codemirror_mode": {
    "name": "ipython",
    "version": 3
   },
   "file_extension": ".py",
   "mimetype": "text/x-python",
   "name": "python",
   "nbconvert_exporter": "python",
   "pygments_lexer": "ipython3",
   "version": "3.12.7"
  }
 },
 "nbformat": 4,
 "nbformat_minor": 5
}
