{
 "cells": [
  {
   "cell_type": "code",
   "execution_count": null,
   "id": "3e1d1ccf-1cdb-4b9c-bccf-39e821f32902",
   "metadata": {},
   "outputs": [],
   "source": [
    "Question:\n",
    "Write a Python function is_leap(year) that takes an integer year as input and \n",
    "returns True if the year is a leap year, otherwise returns False.\n",
    "A year is a leap year if the following conditions are met:\n",
    "The year is evenly divisible by 4;\n",
    "If the year is evenly divisible by 100, it must also be evenly divisible by 400 to be a leap year.\n",
    "Input Format:\n",
    "A single integer representing the year.\n",
    "Output Format:\n",
    "Print True if the year is a leap year, False otherwise."
   ]
  },
  {
   "cell_type": "code",
   "execution_count": null,
   "id": "060545ad-817f-4e33-9abe-00efa7c0da23",
   "metadata": {},
   "outputs": [],
   "source": [
    "def is_leap(year):\n",
    "    leap = False\n",
    "    if year % 4 == 0:\n",
    "        if year % 100 == 0:\n",
    "            if year % 400 == 0:\n",
    "                leap = True\n",
    "            else:\n",
    "                leap = False\n",
    "        else:\n",
    "            leap = True\n",
    "    else:\n",
    "        leap = False\n",
    "    return leap\n",
    "\n",
    "year = int(input())\n",
    "print(is_leap(year))"
   ]
  }
 ],
 "metadata": {
  "kernelspec": {
   "display_name": "Python 3 (ipykernel)",
   "language": "python",
   "name": "python3"
  },
  "language_info": {
   "codemirror_mode": {
    "name": "ipython",
    "version": 3
   },
   "file_extension": ".py",
   "mimetype": "text/x-python",
   "name": "python",
   "nbconvert_exporter": "python",
   "pygments_lexer": "ipython3",
   "version": "3.12.7"
  }
 },
 "nbformat": 4,
 "nbformat_minor": 5
}
