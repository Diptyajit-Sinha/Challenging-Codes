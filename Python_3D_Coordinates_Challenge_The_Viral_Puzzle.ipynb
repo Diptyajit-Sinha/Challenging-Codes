{
 "cells": [
  {
   "cell_type": "code",
   "execution_count": null,
   "id": "79ec9e75-25ec-4f97-aa46-96b5fad42b68",
   "metadata": {},
   "outputs": [],
   "source": [
    "Question:\n",
    "You are given three integers x, y, z representing the maximum values for \n",
    "the coordinates along the X, Y, and Z axes, and an integer n.\n",
    "Task:\n",
    "Generate a list of all possible coordinates \n",
    "[𝑖,𝑗,𝑘]\n",
    "[i,j,k] such that:\n",
    "0≤𝑖≤𝑥\n",
    "0≤i≤x\n",
    "0≤𝑗≤𝑦\n",
    "0≤j≤y\n",
    "0≤𝑘≤𝑧\n",
    "0≤k≤z\n",
    "The sum 𝑖+𝑗+𝑘≠𝑛\n",
    "i+j+k=n\n",
    "Print the list in lexicographic increasing order."
   ]
  },
  {
   "cell_type": "code",
   "execution_count": null,
   "id": "4380aace-4f29-48de-a6d8-d9f18bba479b",
   "metadata": {},
   "outputs": [],
   "source": [
    "if __name__ == '__main__':\n",
    "    x = int(input())\n",
    "    y = int(input())\n",
    "    z = int(input())\n",
    "    n = int(input())\n",
    "    coords = [[i, j, k] for i in range(x + 1) \n",
    "                    for j in range(y + 1) \n",
    "                    for k in range(z + 1)]\n",
    "    p=[]\n",
    "for j in range (len(coords)):\n",
    "    l=sum(coords[j])\n",
    "    if l!=n:\n",
    "        p.append(coords[j])\n",
    "print(p)"
   ]
  }
 ],
 "metadata": {
  "kernelspec": {
   "display_name": "Python 3 (ipykernel)",
   "language": "python",
   "name": "python3"
  },
  "language_info": {
   "codemirror_mode": {
    "name": "ipython",
    "version": 3
   },
   "file_extension": ".py",
   "mimetype": "text/x-python",
   "name": "python",
   "nbconvert_exporter": "python",
   "pygments_lexer": "ipython3",
   "version": "3.12.7"
  }
 },
 "nbformat": 4,
 "nbformat_minor": 5
}
